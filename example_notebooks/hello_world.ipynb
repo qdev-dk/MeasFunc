{
 "cells": [
  {
   "cell_type": "markdown",
   "metadata": {},
   "source": [
    "# Hello, world!\n",
    "\n",
    "This notebook shows you how get a friendly greeting from measfunc."
   ]
  },
  {
   "cell_type": "code",
   "execution_count": 1,
   "metadata": {
    "execution": {
     "iopub.execute_input": "2022-03-22T13:10:25.455642Z",
     "iopub.status.busy": "2022-03-22T13:10:25.455214Z",
     "iopub.status.idle": "2022-03-22T13:10:25.659847Z",
     "shell.execute_reply": "2022-03-22T13:10:25.659047Z"
    }
   },
   "outputs": [],
   "source": [
    "from measfunc.hello_world import hello_world, greeter"
   ]
  },
  {
   "cell_type": "code",
   "execution_count": 2,
   "metadata": {
    "execution": {
     "iopub.execute_input": "2022-03-22T13:10:25.665028Z",
     "iopub.status.busy": "2022-03-22T13:10:25.663566Z",
     "iopub.status.idle": "2022-03-22T13:10:25.669754Z",
     "shell.execute_reply": "2022-03-22T13:10:25.669218Z"
    }
   },
   "outputs": [
    {
     "name": "stdout",
     "output_type": "stream",
     "text": [
      "Hello, you!\n",
      "and\n",
      "Hello, world! from measfunc\n"
     ]
    }
   ],
   "source": [
    "name = \"you\"\n",
    "print(greeter(name))\n",
    "print(\"and\")\n",
    "hello_world()"
   ]
  }
 ],
 "metadata": {
  "kernelspec": {
   "display_name": "Python 3",
   "language": "python",
   "name": "python3"
  },
  "language_info": {
   "codemirror_mode": {
    "name": "ipython",
    "version": 3
   },
   "file_extension": ".py",
   "mimetype": "text/x-python",
   "name": "python",
   "nbconvert_exporter": "python",
   "pygments_lexer": "ipython3",
   "version": "3.7.12"
  }
 },
 "nbformat": 4,
 "nbformat_minor": 4
}
